{
 "nbformat": 4,
 "nbformat_minor": 0,
 "metadata": {
  "colab": {
   "provenance": [],
   "authorship_tag": "ABX9TyOuYzLyLvsk6o+FvORsaKwi"
  },
  "kernelspec": {
   "name": "python3",
   "display_name": "Python 3"
  },
  "language_info": {
   "name": "python"
  }
 },
 "cells": [
  {
   "metadata": {},
   "cell_type": "code",
   "outputs": [],
   "execution_count": null,
   "source": [
    "import pandas as pd\n",
    "#데이터 로드\n",
    "x_train = pd.read_csv(\"https://raw.githubusercontent.com/Datamanim/datarepo/main/HRdata/X_train.csv\")\n",
    "y_train = pd.read_csv(\"https://raw.githubusercontent.com/Datamanim/datarepo/main/HRdata/y_train.csv\")\n",
    "x_test= pd.read_csv(\"https://raw.githubusercontent.com/Datamanim/datarepo/main/HRdata/X_test.csv\")\n",
    "\n",
    "\n",
    "display(x_train.head())\n",
    "display(y_train.head())\n",
    "\n",
    "drop_col = ['enrollee_id','city','company_type','experience']\n",
    "x_test_id = x_test['enrollee_id']\n",
    "x_train = x_train.drop(columns = drop_col)\n",
    "x_test = x_test.drop(columns = drop_col)\n",
    "\n",
    "cols = x_train.select_dtypes(include=object).columns\n",
    "\n",
    "x_train = pd.get_dummies(x_train)\n",
    "x_test = pd.get_dummies(x_test)\n",
    "\n",
    "\n",
    "\n",
    "from sklearn.model_selection import train_test_split\n",
    "y_train = y_train['target'].astype('int')\n",
    "X_tr, X_val, y_tr, y_val = train_test_split(x_train, y_train, test_size=0.2, random_state=2022)\n",
    "X_tr, X_val, y_tr, y_val\n",
    "\n",
    "from sklearn.ensemble import RandomForestClassifier\n",
    "\n",
    "model = RandomForestClassifier();\n",
    "model.fit(X_tr, y_tr)\n",
    "pred = model.predict(X_val)\n",
    "pred\n",
    "\n",
    "y_test = pd.read_csv('https://raw.githubusercontent.com/Datamanim/datarepo/main/HRdata/y_test.csv')\n",
    "\n",
    "pred = model.predict(x_test)\n",
    "submit = pd.DataFrame({\n",
    "    'id':x_test_id,\n",
    "    'target':pred\n",
    "})\n",
    "y_test.head()\n",
    "from sklearn.metrics import accuracy_score\n",
    "accuracy_score(y_test['target'], pred)\n",
    "\n",
    "submit.to_csv(\"000000.csv\", index=False)"
   ]
  }
 ]
}
